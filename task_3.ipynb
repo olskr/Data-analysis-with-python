{
 "cells": [
  {
   "cell_type": "markdown",
   "id": "5b1f2303",
   "metadata": {},
   "source": [
    "**Цель планируемого А/В-теста:** Разобраться, влияет ли то, кто из соперников подавал, на результаты Надаля. \n",
    "Если да, как именно"
   ]
  },
  {
   "cell_type": "code",
   "execution_count": 1,
   "id": "28069e92",
   "metadata": {},
   "outputs": [],
   "source": [
    "import numpy as np\n",
    "import pandas as pd"
   ]
  },
  {
   "cell_type": "code",
   "execution_count": 2,
   "id": "11f80a76",
   "metadata": {},
   "outputs": [],
   "source": [
    "from scipy.stats import norm, chi2_contingency\n",
    "import statsmodels.api as sm"
   ]
  },
  {
   "cell_type": "markdown",
   "id": "ae4f95e7",
   "metadata": {},
   "source": [
    "Результаты Надаля на глиняных и других кортах — геймы, в которых он подавал:"
   ]
  },
  {
   "cell_type": "code",
   "execution_count": 3,
   "id": "16ea0392",
   "metadata": {},
   "outputs": [
    {
     "data": {
      "text/html": [
       "<div>\n",
       "<style scoped>\n",
       "    .dataframe tbody tr th:only-of-type {\n",
       "        vertical-align: middle;\n",
       "    }\n",
       "\n",
       "    .dataframe tbody tr th {\n",
       "        vertical-align: top;\n",
       "    }\n",
       "\n",
       "    .dataframe thead th {\n",
       "        text-align: right;\n",
       "    }\n",
       "</style>\n",
       "<table border=\"1\" class=\"dataframe\">\n",
       "  <thead>\n",
       "    <tr style=\"text-align: right;\">\n",
       "      <th></th>\n",
       "      <th>WIN</th>\n",
       "      <th>LOSS</th>\n",
       "      <th>Total</th>\n",
       "    </tr>\n",
       "  </thead>\n",
       "  <tbody>\n",
       "    <tr>\n",
       "      <th>Clay</th>\n",
       "      <td>1090</td>\n",
       "      <td>171</td>\n",
       "      <td>1261</td>\n",
       "    </tr>\n",
       "    <tr>\n",
       "      <th>Nonclay</th>\n",
       "      <td>2747</td>\n",
       "      <td>446</td>\n",
       "      <td>3193</td>\n",
       "    </tr>\n",
       "    <tr>\n",
       "      <th>Total</th>\n",
       "      <td>3837</td>\n",
       "      <td>617</td>\n",
       "      <td>4454</td>\n",
       "    </tr>\n",
       "  </tbody>\n",
       "</table>\n",
       "</div>"
      ],
      "text/plain": [
       "          WIN  LOSS  Total\n",
       "Clay     1090   171   1261\n",
       "Nonclay  2747   446   3193\n",
       "Total    3837   617   4454"
      ]
     },
     "execution_count": 3,
     "metadata": {},
     "output_type": "execute_result"
    }
   ],
   "source": [
    "contingency_table = pd.DataFrame([[1090, 171], [2747, 446]],\n",
    "                                 index=['Clay', 'Nonclay'],\n",
    "                                 columns=['WIN', 'LOSS'])\n",
    "contingency_table.loc['Total'] = contingency_table.sum(axis=0)\n",
    "contingency_table['Total'] = contingency_table.sum(axis=1)\n",
    "contingency_table"
   ]
  },
  {
   "cell_type": "code",
   "execution_count": 4,
   "id": "0077e544",
   "metadata": {},
   "outputs": [],
   "source": [
    "#                     RESULT\n",
    "#                 WIN  LOSS TOTAL\n",
    "#         Clay    1090 171  1261\n",
    "# Surface Nonclay 2747 446  3193\n",
    "#         Total   3837 617  4454"
   ]
  },
  {
   "cell_type": "markdown",
   "id": "b22dd572",
   "metadata": {},
   "source": [
    "Результаты Надаля на глиняных и других кортах — геймы, в которых он принимал подачу:"
   ]
  },
  {
   "cell_type": "code",
   "execution_count": 5,
   "id": "e8574675",
   "metadata": {},
   "outputs": [
    {
     "data": {
      "text/html": [
       "<div>\n",
       "<style scoped>\n",
       "    .dataframe tbody tr th:only-of-type {\n",
       "        vertical-align: middle;\n",
       "    }\n",
       "\n",
       "    .dataframe tbody tr th {\n",
       "        vertical-align: top;\n",
       "    }\n",
       "\n",
       "    .dataframe thead th {\n",
       "        text-align: right;\n",
       "    }\n",
       "</style>\n",
       "<table border=\"1\" class=\"dataframe\">\n",
       "  <thead>\n",
       "    <tr style=\"text-align: right;\">\n",
       "      <th></th>\n",
       "      <th>WIN</th>\n",
       "      <th>LOSS</th>\n",
       "      <th>Total</th>\n",
       "    </tr>\n",
       "  </thead>\n",
       "  <tbody>\n",
       "    <tr>\n",
       "      <th>Clay</th>\n",
       "      <td>570</td>\n",
       "      <td>692</td>\n",
       "      <td>1262</td>\n",
       "    </tr>\n",
       "    <tr>\n",
       "      <th>Nonclay</th>\n",
       "      <td>911</td>\n",
       "      <td>2269</td>\n",
       "      <td>3180</td>\n",
       "    </tr>\n",
       "    <tr>\n",
       "      <th>Total</th>\n",
       "      <td>1481</td>\n",
       "      <td>2961</td>\n",
       "      <td>4442</td>\n",
       "    </tr>\n",
       "  </tbody>\n",
       "</table>\n",
       "</div>"
      ],
      "text/plain": [
       "          WIN  LOSS  Total\n",
       "Clay      570   692   1262\n",
       "Nonclay   911  2269   3180\n",
       "Total    1481  2961   4442"
      ]
     },
     "execution_count": 5,
     "metadata": {},
     "output_type": "execute_result"
    }
   ],
   "source": [
    "contingency_table_1 = pd.DataFrame([[570, 692], [911, 2269]],\n",
    "                                    index=['Clay', 'Nonclay'],\n",
    "                                    columns=['WIN', 'LOSS'])\n",
    "contingency_table_1.loc['Total'] = contingency_table_1.sum(axis=0)\n",
    "contingency_table_1['Total'] = contingency_table_1.sum(axis=1)\n",
    "contingency_table_1"
   ]
  },
  {
   "cell_type": "code",
   "execution_count": 6,
   "id": "c65987cc",
   "metadata": {},
   "outputs": [],
   "source": [
    "#                     RESULT\n",
    "#                 WIN  LOSS TOTAL\n",
    "#         Clay    570  692  1262\n",
    "# Surface Nonclay 911  2269 3180\n",
    "#         Total   1481 2961 4442"
   ]
  },
  {
   "cell_type": "markdown",
   "id": "5df9f8c5",
   "metadata": {},
   "source": [
    "Если мы не будем принимать во внимание вид покрытия, то сможем получить таблицу сопряженности, отражающую частоту наших переменных, со следующим наполнением:"
   ]
  },
  {
   "cell_type": "code",
   "execution_count": 7,
   "id": "65eeaf02",
   "metadata": {},
   "outputs": [
    {
     "data": {
      "text/html": [
       "<div>\n",
       "<style scoped>\n",
       "    .dataframe tbody tr th:only-of-type {\n",
       "        vertical-align: middle;\n",
       "    }\n",
       "\n",
       "    .dataframe tbody tr th {\n",
       "        vertical-align: top;\n",
       "    }\n",
       "\n",
       "    .dataframe thead th {\n",
       "        text-align: right;\n",
       "    }\n",
       "</style>\n",
       "<table border=\"1\" class=\"dataframe\">\n",
       "  <thead>\n",
       "    <tr style=\"text-align: right;\">\n",
       "      <th></th>\n",
       "      <th>WIN</th>\n",
       "      <th>LOSS</th>\n",
       "      <th>Total</th>\n",
       "    </tr>\n",
       "  </thead>\n",
       "  <tbody>\n",
       "    <tr>\n",
       "      <th>подавал</th>\n",
       "      <td>3837</td>\n",
       "      <td>617</td>\n",
       "      <td>4454</td>\n",
       "    </tr>\n",
       "    <tr>\n",
       "      <th>принимал</th>\n",
       "      <td>1481</td>\n",
       "      <td>2961</td>\n",
       "      <td>4442</td>\n",
       "    </tr>\n",
       "    <tr>\n",
       "      <th>Total</th>\n",
       "      <td>5318</td>\n",
       "      <td>3578</td>\n",
       "      <td>8896</td>\n",
       "    </tr>\n",
       "  </tbody>\n",
       "</table>\n",
       "</div>"
      ],
      "text/plain": [
       "           WIN  LOSS Total\n",
       "подавал   3837   617  4454\n",
       "принимал  1481  2961  4442\n",
       "Total     5318  3578  8896"
      ]
     },
     "execution_count": 7,
     "metadata": {},
     "output_type": "execute_result"
    }
   ],
   "source": [
    "contingency_table_3 = pd.DataFrame(index=['подавал', 'принимал', 'Total'],\n",
    "                                   columns=['WIN', 'LOSS', 'Total'])\n",
    "\n",
    "contingency_table_3.loc['подавал'] = contingency_table.loc['Total']\n",
    "contingency_table_3.loc['принимал'] = contingency_table_1.loc['Total']\n",
    "contingency_table_3.loc['Total'] = contingency_table_3.sum()\n",
    "contingency_table_3"
   ]
  },
  {
   "cell_type": "code",
   "execution_count": 8,
   "id": "3e8fe763",
   "metadata": {},
   "outputs": [],
   "source": [
    "#              RESULT\n",
    "#           WIN  LOSS TOTAL\n",
    "# подавал   3837 617  4454\n",
    "# принимал  1481 2961 4442\n",
    "# Total     5318 3578 8896"
   ]
  },
  {
   "cell_type": "markdown",
   "id": "a4bacf08",
   "metadata": {},
   "source": [
    "Н0: p1 = p2 </br>\n",
    "H1: p1 != p2\n",
    "\n",
    "H0: Нет статистически значимой разницы в долях выигранных и проигранных геймов Надаля в зависимости от того, кто из соперников подает.</br>\n",
    "H1: Существует статистически значимая разница в долях выигранных и проигранных геймов Надаля в зависимости от того, кто из соперников подает."
   ]
  },
  {
   "cell_type": "code",
   "execution_count": 9,
   "id": "7eff90e8",
   "metadata": {},
   "outputs": [
    {
     "name": "stdout",
     "output_type": "stream",
     "text": [
      "Значение критерия статистики: 50.787212211865\n",
      "p-value: 0.000000000000\n"
     ]
    }
   ],
   "source": [
    "#   Версия 1. Прямые вычисления\n",
    "\n",
    "s1 = 3837            #  число успехов  выборка А\n",
    "n1 = 617 + s1      #  число испытаний   выборка А\n",
    "s2 = 1481             #  число успехов     выборка Б\n",
    "n2 = 2961  + s2     #  число испытаний   выборка Б\n",
    "p1 = s1/n1               #  доля побед в выборке А\n",
    "p2 = s2/n2               #  доля побед в выборке Б\n",
    "p = (s1 + s2)/(n1+n2)    #  доля побед для объединенных выборок A и Б\n",
    "z = (p2-p1)/ ((p*(1-p)*((1/n1)+(1/n2)))**0.5)     #  z-метка\n",
    "\n",
    "p_value = norm.cdf(-abs(z)) # функция рапсределения стандартного нормального рапсределения в точке\n",
    "\n",
    "#  z-метка и p-значение\n",
    "result = ['{:.12f}'.format(a) for a in (abs(z), p_value * 2)]\n",
    "print('Значение критерия статистики:', result[0])\n",
    "print('p-value:', result[1])"
   ]
  },
  {
   "cell_type": "markdown",
   "id": "f80560f9",
   "metadata": {},
   "source": [
    "p-value < 0.05, следовательно, нулевая гипотеза о равенстве вероятности выигрыша отвергается."
   ]
  },
  {
   "cell_type": "markdown",
   "id": "89c87ef0",
   "metadata": {},
   "source": [
    "Значение z-метки - результат разницы между оценками вероятностей успеха для двух выборок (подача соперников и подача Надаля) с учетом их размеров и общей оценки вероятности успеха. </br>\n",
    "\n",
    "В контексте z-теста для различия долей, большая z-метка указывает на значительное стандартное отклонение между двумя группами, что подразумевает сильные статистические различия в долях успеха. </br>\n",
    "\n",
    "В данном случае, высокая z-метка может быть обусловлена существенными различиями между долями выигранных и проигранных геймов при подаче соперников и подаче Надаля. </br>\n",
    "\n",
    "Чем больше различие между двумя долями (p1 и p2), тем больше будет значение z-метки. Значение z-метки и p-значения позволяют вам сделать вывод о том, насколько статистически значимы эти различия. В данном случае, так как p-значение близко к нулю, мы отвергаем нулевую гипотезу и считаем различия статистически значимыми. </br>"
   ]
  },
  {
   "cell_type": "code",
   "execution_count": 10,
   "id": "c8519174",
   "metadata": {},
   "outputs": [
    {
     "name": "stdout",
     "output_type": "stream",
     "text": [
      "['50.787212211865', '0.000000000000']\n"
     ]
    }
   ],
   "source": [
    "#   Версия 2. Используем  proportions_ztest\n",
    "\n",
    "z1, p_value1 = sm.stats.proportions_ztest([s1, s2],[n1, n2])\n",
    "\n",
    "#  z-метка и p-значение\n",
    "print(['{:.12f}'.format(b) for b in (z1, p_value1)])"
   ]
  }
 ],
 "metadata": {
  "kernelspec": {
   "display_name": "Python 3 (ipykernel)",
   "language": "python",
   "name": "python3"
  },
  "language_info": {
   "codemirror_mode": {
    "name": "ipython",
    "version": 3
   },
   "file_extension": ".py",
   "mimetype": "text/x-python",
   "name": "python",
   "nbconvert_exporter": "python",
   "pygments_lexer": "ipython3",
   "version": "3.9.7"
  }
 },
 "nbformat": 4,
 "nbformat_minor": 5
}
